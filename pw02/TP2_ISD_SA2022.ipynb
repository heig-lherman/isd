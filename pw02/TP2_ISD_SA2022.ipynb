{
 "cells": [
  {
   "cell_type": "markdown",
   "id": "cfee4249",
   "metadata": {},
   "source": [
    "# Introduction à la Science des données\n",
    "\n",
    "\n",
    "## Travail pratique 02 – Outils pour le calcul scientifique II \n",
    "\n",
    "\n",
    "### Table des matières\n",
    "\n",
    "[Analyse des données socio-économiques](#Analyse-des-données-socio-économiques)\n",
    "\n",
    "[- Bases](#Bases)\n",
    "\n",
    "[- Histogrammes](#Histogrammes)\n",
    "\n",
    "[- Manipulations des données](#Manipulations-des-données)\n",
    "\n",
    "[- Manipulations et graphiques](#Manipulations-et-graphiques)\n",
    "\n",
    "\n",
    "**Professeurs**: Carlos Peña et Stephan Robert\n",
    "\n",
    "**Assistant(s)**: Thibault Schowing\n",
    "\n",
    "**Contact**: prenom.nom@heig-vd.ch ou de préférence via Teams pout l'assistant\n",
    "\n",
    "**Rendu**:\n",
    "- Date: 07.11.2022, 23h55\n",
    "\n",
    "- Modalité: Travail individuel. Une fois complété, rendez directement le notebook nommé correctement comme suit \"**TP2_ISD_SA2022_Nom_Prenom.ipynb**\" en remplaçant Nom et Prenom par les votres, y compris ci-dessous, puis uploader votre fichier sur Cyberlearn.\n",
    "\n",
    "- Les questions sont généralement indiquées en **gras** ou par une liste d'instructrions et les endroits où répondre sont indiqués par un \"*Réponse:*\" pour les réponses textuelles. \n",
    "- Pour les réponses nécessitant d'écrire du code, les cellules ont déjà été crées et un commentaire indique où/quoi répondre.\n",
    "\n",
    "- Note: Ce TP est noté sur 6, pour un poids de 5%\n",
    "\n",
    "**Étudiant**: [redacted]\n",
    "\n",
    "<div class=\"alert alert-block alert-success\">\n",
    "<b>Objectifs </b>\n",
    "</div>\n",
    "\n",
    "- Se familiariser avec la bibliothèque Pandas de gestion et traitement des dataframes.\n",
    "- Mise en pratique de l'analyse et la caractérisation simple des attributs d’une base de données.\n",
    "\n",
    "\n",
    "\n",
    "<div class=\"alert alert-block alert-info\">\n",
    "<b>Aide - Différentes Cheatsheets recommandées pour accompagner le TP.  </b>\n",
    "</div>\n",
    "\n",
    "N'oubliez pas que vous pouvez retourner vers le TP1 si vous avez des questions sur Python, Numpy, Pandas ou Matplotlib. \n",
    "\n",
    "- [Data wrangling with Pandas](https://pandas.pydata.org/Pandas_Cheat_Sheet.pdf)\n",
    "- [Matplotlib cheatscheets](https://matplotlib.org/cheatsheets/)\n",
    "\n",
    "\n",
    "\n",
    "<div class=\"alert alert-block alert-info\">\n",
    "<b>Corrections: </b> Ce notebook vous sera renvoyé via Cyberlearn ou  un autre canal. Les informations principales concernant les corrections seront indiquées après chaque section (banière bleue) avec le nombre de points. Il est possible que des remarques concernant le code soient directement ajoutées dans celui-ci.\n",
    "</div>\n"
   ]
  },
  {
   "cell_type": "markdown",
   "id": "e06372ba",
   "metadata": {},
   "source": [
    "### 1.\tAnalyse des données socio-économiques\n",
    "\n",
    "La fondation gapminder fondée par Hans Rosling et famille, fournit une base de données sur les pays, des outils d’analyse et des études d’analyse socio-économique très intéressantes. Les petits sets de données que nous allons utiliser peuvent sembler insignifiants mais une analyse objective et factuelle des données, comme le promeut la [fondation Gapminder](https://www.projectrosling.ch/fr/concept/), peut rapidement changer votre perception du monde !\n",
    "\n",
    "Nous allons utiliser une petite base de données contenant la population, l’espérance de vie et le PIB par habitant pour différents pays du monde de 1952 à 2007, pour faire quelques analyses.\n",
    "\n",
    "**N'hésitez pas à ouvrir votre TP1 pour avoir les quelques bases à portée de vue pour vous aider dans ce labo et les suivants !**\n",
    "\n",
    "\n",
    "- Dans l'environnement Anaconda utilisé par Jupyter (l'environnement que vous avez inscrit comme kernel), commencez par importer le module gapminder avec pip: *pip install gapminder*. Une fois installé ce module, vous aurez accès à un dataframe appelé gapminder. "
   ]
  },
  {
   "cell_type": "code",
   "execution_count": 1,
   "id": "5050aa83",
   "metadata": {},
   "outputs": [],
   "source": [
    "import matplotlib.pyplot as plt\n",
    "import numpy as np\n",
    "import pandas\n",
    "import pandas as pd\n",
    "from gapminder import gapminder\n",
    "\n",
    "# Pour plus de clareté et pour la tradition, on appelle notre DataFrame \"df\" \n",
    "df = gapminder"
   ]
  },
  {
   "cell_type": "markdown",
   "id": "221d52db",
   "metadata": {},
   "source": [
    "___\n",
    "**1.1) Utilisez les méthodes head(), describe() et info() pour vous familiariser avec le DataFrame.**"
   ]
  },
  {
   "cell_type": "code",
   "execution_count": 2,
   "id": "3be19308",
   "metadata": {},
   "outputs": [
    {
     "data": {
      "text/html": [
       "<div>\n",
       "<style scoped>\n",
       "    .dataframe tbody tr th:only-of-type {\n",
       "        vertical-align: middle;\n",
       "    }\n",
       "\n",
       "    .dataframe tbody tr th {\n",
       "        vertical-align: top;\n",
       "    }\n",
       "\n",
       "    .dataframe thead th {\n",
       "        text-align: right;\n",
       "    }\n",
       "</style>\n",
       "<table border=\"1\" class=\"dataframe\">\n",
       "  <thead>\n",
       "    <tr style=\"text-align: right;\">\n",
       "      <th></th>\n",
       "      <th>country</th>\n",
       "      <th>continent</th>\n",
       "      <th>year</th>\n",
       "      <th>lifeExp</th>\n",
       "      <th>pop</th>\n",
       "      <th>gdpPercap</th>\n",
       "    </tr>\n",
       "  </thead>\n",
       "  <tbody>\n",
       "    <tr>\n",
       "      <th>0</th>\n",
       "      <td>Afghanistan</td>\n",
       "      <td>Asia</td>\n",
       "      <td>1952</td>\n",
       "      <td>28.801</td>\n",
       "      <td>8425333</td>\n",
       "      <td>779.445314</td>\n",
       "    </tr>\n",
       "    <tr>\n",
       "      <th>1</th>\n",
       "      <td>Afghanistan</td>\n",
       "      <td>Asia</td>\n",
       "      <td>1957</td>\n",
       "      <td>30.332</td>\n",
       "      <td>9240934</td>\n",
       "      <td>820.853030</td>\n",
       "    </tr>\n",
       "    <tr>\n",
       "      <th>2</th>\n",
       "      <td>Afghanistan</td>\n",
       "      <td>Asia</td>\n",
       "      <td>1962</td>\n",
       "      <td>31.997</td>\n",
       "      <td>10267083</td>\n",
       "      <td>853.100710</td>\n",
       "    </tr>\n",
       "    <tr>\n",
       "      <th>3</th>\n",
       "      <td>Afghanistan</td>\n",
       "      <td>Asia</td>\n",
       "      <td>1967</td>\n",
       "      <td>34.020</td>\n",
       "      <td>11537966</td>\n",
       "      <td>836.197138</td>\n",
       "    </tr>\n",
       "    <tr>\n",
       "      <th>4</th>\n",
       "      <td>Afghanistan</td>\n",
       "      <td>Asia</td>\n",
       "      <td>1972</td>\n",
       "      <td>36.088</td>\n",
       "      <td>13079460</td>\n",
       "      <td>739.981106</td>\n",
       "    </tr>\n",
       "  </tbody>\n",
       "</table>\n",
       "</div>"
      ],
      "text/plain": [
       "       country continent  year  lifeExp       pop   gdpPercap\n",
       "0  Afghanistan      Asia  1952   28.801   8425333  779.445314\n",
       "1  Afghanistan      Asia  1957   30.332   9240934  820.853030\n",
       "2  Afghanistan      Asia  1962   31.997  10267083  853.100710\n",
       "3  Afghanistan      Asia  1967   34.020  11537966  836.197138\n",
       "4  Afghanistan      Asia  1972   36.088  13079460  739.981106"
      ]
     },
     "execution_count": 2,
     "metadata": {},
     "output_type": "execute_result"
    }
   ],
   "source": [
    "# Utilisez la méthode head()\n",
    "df.head()"
   ]
  },
  {
   "cell_type": "code",
   "execution_count": 3,
   "id": "febdd96d",
   "metadata": {},
   "outputs": [
    {
     "data": {
      "text/html": [
       "<div>\n",
       "<style scoped>\n",
       "    .dataframe tbody tr th:only-of-type {\n",
       "        vertical-align: middle;\n",
       "    }\n",
       "\n",
       "    .dataframe tbody tr th {\n",
       "        vertical-align: top;\n",
       "    }\n",
       "\n",
       "    .dataframe thead th {\n",
       "        text-align: right;\n",
       "    }\n",
       "</style>\n",
       "<table border=\"1\" class=\"dataframe\">\n",
       "  <thead>\n",
       "    <tr style=\"text-align: right;\">\n",
       "      <th></th>\n",
       "      <th>year</th>\n",
       "      <th>lifeExp</th>\n",
       "      <th>pop</th>\n",
       "      <th>gdpPercap</th>\n",
       "    </tr>\n",
       "  </thead>\n",
       "  <tbody>\n",
       "    <tr>\n",
       "      <th>count</th>\n",
       "      <td>1704.00000</td>\n",
       "      <td>1704.000000</td>\n",
       "      <td>1.704000e+03</td>\n",
       "      <td>1704.000000</td>\n",
       "    </tr>\n",
       "    <tr>\n",
       "      <th>mean</th>\n",
       "      <td>1979.50000</td>\n",
       "      <td>59.474439</td>\n",
       "      <td>2.960121e+07</td>\n",
       "      <td>7215.327081</td>\n",
       "    </tr>\n",
       "    <tr>\n",
       "      <th>std</th>\n",
       "      <td>17.26533</td>\n",
       "      <td>12.917107</td>\n",
       "      <td>1.061579e+08</td>\n",
       "      <td>9857.454543</td>\n",
       "    </tr>\n",
       "    <tr>\n",
       "      <th>min</th>\n",
       "      <td>1952.00000</td>\n",
       "      <td>23.599000</td>\n",
       "      <td>6.001100e+04</td>\n",
       "      <td>241.165876</td>\n",
       "    </tr>\n",
       "    <tr>\n",
       "      <th>25%</th>\n",
       "      <td>1965.75000</td>\n",
       "      <td>48.198000</td>\n",
       "      <td>2.793664e+06</td>\n",
       "      <td>1202.060309</td>\n",
       "    </tr>\n",
       "    <tr>\n",
       "      <th>50%</th>\n",
       "      <td>1979.50000</td>\n",
       "      <td>60.712500</td>\n",
       "      <td>7.023596e+06</td>\n",
       "      <td>3531.846988</td>\n",
       "    </tr>\n",
       "    <tr>\n",
       "      <th>75%</th>\n",
       "      <td>1993.25000</td>\n",
       "      <td>70.845500</td>\n",
       "      <td>1.958522e+07</td>\n",
       "      <td>9325.462346</td>\n",
       "    </tr>\n",
       "    <tr>\n",
       "      <th>max</th>\n",
       "      <td>2007.00000</td>\n",
       "      <td>82.603000</td>\n",
       "      <td>1.318683e+09</td>\n",
       "      <td>113523.132900</td>\n",
       "    </tr>\n",
       "  </tbody>\n",
       "</table>\n",
       "</div>"
      ],
      "text/plain": [
       "             year      lifeExp           pop      gdpPercap\n",
       "count  1704.00000  1704.000000  1.704000e+03    1704.000000\n",
       "mean   1979.50000    59.474439  2.960121e+07    7215.327081\n",
       "std      17.26533    12.917107  1.061579e+08    9857.454543\n",
       "min    1952.00000    23.599000  6.001100e+04     241.165876\n",
       "25%    1965.75000    48.198000  2.793664e+06    1202.060309\n",
       "50%    1979.50000    60.712500  7.023596e+06    3531.846988\n",
       "75%    1993.25000    70.845500  1.958522e+07    9325.462346\n",
       "max    2007.00000    82.603000  1.318683e+09  113523.132900"
      ]
     },
     "execution_count": 3,
     "metadata": {},
     "output_type": "execute_result"
    }
   ],
   "source": [
    "# Utilisez la méthode describe()\n",
    "df.describe()"
   ]
  },
  {
   "cell_type": "code",
   "execution_count": 4,
   "id": "56e74fd8",
   "metadata": {},
   "outputs": [
    {
     "name": "stdout",
     "output_type": "stream",
     "text": [
      "<class 'pandas.core.frame.DataFrame'>\n",
      "RangeIndex: 1704 entries, 0 to 1703\n",
      "Data columns (total 6 columns):\n",
      " #   Column     Non-Null Count  Dtype  \n",
      "---  ------     --------------  -----  \n",
      " 0   country    1704 non-null   object \n",
      " 1   continent  1704 non-null   object \n",
      " 2   year       1704 non-null   int64  \n",
      " 3   lifeExp    1704 non-null   float64\n",
      " 4   pop        1704 non-null   int64  \n",
      " 5   gdpPercap  1704 non-null   float64\n",
      "dtypes: float64(2), int64(2), object(2)\n",
      "memory usage: 80.0+ KB\n"
     ]
    }
   ],
   "source": [
    "# Utilisez la méthode info()\n",
    "df.info()"
   ]
  },
  {
   "cell_type": "markdown",
   "id": "b3686cd2",
   "metadata": {},
   "source": [
    "**1.2) Décrivez brièvement le contenu du dataset. Quelles sont les données présentes ? Que signifient-elles ?**\n",
    "\n",
    "(2 points)\n",
    "\n",
    "*Réponse:*\n",
    "\n",
    "> Le pays, le continent du pays, l'année de collecte des données, l'espérance de vie à la naissance pour l'année,\n",
    "> la population totale du pays pour l'année, et le PIB par tête à la valeur du dollar américain pour l'année"
   ]
  },
  {
   "cell_type": "markdown",
   "id": "7ddcd58e",
   "metadata": {},
   "source": [
    "**1.3) Décrivez le contenu des résultats renvoyés par les trois méthodes ci-dessus:**\n",
    "\n",
    "(3 points)\n",
    "\n",
    "*Description head():*\n",
    "\n",
    "> Retourne les `n` premières lignes du tableau de données. Par défaut, `n = 5`.\n",
    "\n",
    "*Description describe():*\n",
    "\n",
    "> Permet de générer quelques statistiques descriptives brutes sur les données du tableau qui peuvent être interprétées.\n",
    ">\n",
    "> Les statistiques descriptives comprennent celles qui résument la tendance centrale, la dispersion et la forme d'un échantillon.\n",
    "> la tendance centrale, la dispersion et la forme distribution d'un ensemble de données, à l'exclusion des valeurs \"NaN\".\n",
    "\n",
    "*Description info():*\n",
    "\n",
    "> Imprime un résumé concis d'un DataFrame.\n",
    ">\n",
    "> Cette méthode imprime des informations du tableau, notamment le type d'index et les colonnes,\n",
    "> les valeurs non nulles et l'utilisation de la mémoire."
   ]
  },
  {
   "cell_type": "markdown",
   "id": "3f492cdc",
   "metadata": {},
   "source": [
    "<div class=\"alert alert-block alert-info\">\n",
    "<b>Corrections: </b> Points obtenus: /5\n",
    "</div>\n",
    "\n",
    "Remarques: "
   ]
  },
  {
   "cell_type": "markdown",
   "id": "b92734b4",
   "metadata": {},
   "source": [
    "___\n",
    "### Histogrammes\n",
    "\n",
    "**2.1) Utilisez la commande *pandas.DataFrame.hist(df)* ci-dessous pour vous faire une idée plus précise des valeurs dans la base de données.** "
   ]
  },
  {
   "cell_type": "code",
   "execution_count": 5,
   "id": "d9c6453e",
   "metadata": {},
   "outputs": [
    {
     "data": {
      "text/plain": [
       "array([[<AxesSubplot:title={'center':'year'}>,\n",
       "        <AxesSubplot:title={'center':'lifeExp'}>],\n",
       "       [<AxesSubplot:title={'center':'pop'}>,\n",
       "        <AxesSubplot:title={'center':'gdpPercap'}>]], dtype=object)"
      ]
     },
     "execution_count": 5,
     "metadata": {},
     "output_type": "execute_result"
    },
    {
     "data": {
      "image/png": "[encoded data removed]",
      "text/plain": [
       "<Figure size 1152x720 with 4 Axes>"
      ]
     },
     "metadata": {
      "needs_background": "light"
     },
     "output_type": "display_data"
    }
   ],
   "source": [
    "# Observez bien la notation utilisée et comment s'utilise la fonction \"pandas.DataFrame.hist(df)\"\n",
    "# On ajoute la taille de figure en paramètres pour plus de clareté.\n",
    "\n",
    "df.hist(figsize=(16, 10))"
   ]
  },
  {
   "cell_type": "markdown",
   "id": "77f96a24",
   "metadata": {},
   "source": [
    "**2.2) Décrivez rapidement les quatre histogrammes ci-dessus. Que remarquez-vous avec l'histogramme représentant la variable \"year\" ?** \n",
    "\n",
    "(3 points)"
   ]
  },
  {
   "cell_type": "markdown",
   "id": "36e5b1c1",
   "metadata": {},
   "source": [
    "*Réponse:*\n",
    "\n",
    "> `year` représente la quantité de lignes du tableau qui ont l'année représentée en abscisse. On note que les données aux extrémités sont étrangement\n",
    "> représentées, car les sous-ensembles de données représentés par la première et la dernière colonne contient une année de plus que les autres.\n",
    ">\n",
    "> `lifeExp` représente la quantité de lignes du tableau qui ont l'espérance de vie représentée en abscisse.\n",
    ">\n",
    "> `pop` représente la quantité de lignes du tableau qui ont la population représentée en abscisse. On note que le dataset fournit beaucoup\n",
    "> de pays de moins de 100'000'000 habitants, ce qui est mal représenté ici, car la majorité des pays n'ont pas forcément autant d'habitants\n",
    ">\n",
    "> `gdpPerCap` représente la quantité de ligne du tableau qui ont le PIB par tête représenté dans en abscisse."
   ]
  },
  {
   "cell_type": "markdown",
   "id": "642a1eb6",
   "metadata": {},
   "source": [
    "**2.3) Exécutez le code ci-dessous puis répondez aux questions suivantes:**\n",
    "\n",
    "(2 points)\n",
    "\n",
    "- Que représente le paramètre \"bins\" ? Aidez-vous de [la doc](https://pandas.pydata.org/docs/reference/api/pandas.DataFrame.hist.html) si nécessaire.\n",
    "\n",
    "*Réponse:*\n",
    "\n",
    "> Représente le nombre de \"colonnes\" à afficher dans l'histogramme, cela permet d'ajuster les fourchettes de données représentées en ordonnée.\n",
    "\n",
    "- Quelle conclusion pouvez vous tirer concernant la représentation de la variable \"year\" dans le dataset ?\n",
    "\n",
    "*Réponse:*\n",
    "\n",
    "> On note que les données aux extrémités sont étrangement représentées.\n",
    "> Comme chaque pays continent 12 années de statistiques, l'histogramme représente ces 12 années sur 10 colonnes.\n",
    ">\n",
    "> Il y a 55 ans de différence entre la première et la dernière, donc l'histogramme sépare les colonnes par tranche de 5.5 années.\n",
    ">\n",
    "> Pour la première colonne, il y a donc deux années du dataset qui sont compatibilisées (1952 et 1955). Comme l'écart entre les\n",
    "> années est de 3 ans dans les données et que l'histogramme représente une colonne par tranche de 5.5 années, années suivantes tombent\n",
    "> dans une tranche où seulement une année sera représentée.\n",
    " >\n",
    " > Le décalage est rattrapé à la fin où 2 années sont de nouveau compatibilisées dans la même colonne.\n"
   ]
  },
  {
   "cell_type": "code",
   "execution_count": 6,
   "id": "d3ce4f36",
   "metadata": {},
   "outputs": [
    {
     "data": {
      "image/png": "[encoded data removed]",
      "text/plain": [
       "<Figure size 504x504 with 1 Axes>"
      ]
     },
     "metadata": {
      "needs_background": "light"
     },
     "output_type": "display_data"
    }
   ],
   "source": [
    "# Code question 2.3\n",
    "df[\"year\"].hist(figsize=(7, 7), bins=55);"
   ]
  },
  {
   "cell_type": "markdown",
   "id": "9ba10de2",
   "metadata": {},
   "source": [
    "<div class=\"alert alert-block alert-info\">\n",
    "<b>Corrections: </b> Points obtenus: /5\n",
    "</div>\n",
    "\n",
    "Remarques: "
   ]
  },
  {
   "cell_type": "markdown",
   "id": "3a241742",
   "metadata": {},
   "source": [
    "___\n",
    "\n",
    "### Manipulations des données\n",
    "\n",
    "**3.1) Trouvez combien d’observations il y a par pays et par année (c.a.d., combien de données par pays et par année) et vérifiez s’il y a des données manquantes.** \n",
    "\n",
    "(3 points)\n",
    "\n",
    "Pour vérifier s'il y a des données manquantes, vérifiez simplement qu'aucun pays/année n'a moins de données que les autres. Ecrivez vos conclusions dans la cellule ci-après. \n",
    "\n",
    "Pour cela, utilisez les fonctions: *groupby()* avec comme paramètres \"year\" et \"country\" puis *size()* pour avoir la taille. Observez en premier à quoi ressemble le résultat de ces deux fonctions puis enchaînez avec *describe()* afin d'en tirer des conclusions. \n",
    "\n",
    "Regardez les exemples de [la doc pour la fonction groupby()](https://pandas.pydata.org/docs/reference/api/pandas.DataFrame.groupby.html) afin de voir comment **chaîner les méthodes**."
   ]
  },
  {
   "cell_type": "code",
   "execution_count": 7,
   "id": "e9f19e7d",
   "metadata": {},
   "outputs": [
    {
     "data": {
      "text/plain": [
       "count    1704.0\n",
       "mean        1.0\n",
       "std         0.0\n",
       "min         1.0\n",
       "25%         1.0\n",
       "50%         1.0\n",
       "75%         1.0\n",
       "max         1.0\n",
       "dtype: float64"
      ]
     },
     "execution_count": 7,
     "metadata": {},
     "output_type": "execute_result"
    }
   ],
   "source": [
    "# Écrivez votre code ici. Note: une seule ligne suffit. \n",
    "df.groupby(['year', 'country']).size().describe()\n"
   ]
  },
  {
   "cell_type": "markdown",
   "id": "28956c0c",
   "metadata": {},
   "source": [
    "**3.2) Combien de mesures ont été faites par année ? (pas besoin d'utiliser *describe()*)**\n",
    "\n",
    "(2 points)"
   ]
  },
  {
   "cell_type": "code",
   "execution_count": 8,
   "id": "4a1322c2",
   "metadata": {},
   "outputs": [
    {
     "data": {
      "text/plain": [
       "year\n",
       "1952    142\n",
       "1957    142\n",
       "1962    142\n",
       "1967    142\n",
       "1972    142\n",
       "1977    142\n",
       "1982    142\n",
       "1987    142\n",
       "1992    142\n",
       "1997    142\n",
       "2002    142\n",
       "2007    142\n",
       "dtype: int64"
      ]
     },
     "execution_count": 8,
     "metadata": {},
     "output_type": "execute_result"
    }
   ],
   "source": [
    "# Écrivez votre code ici. Note: une seule ligne suffit. \n",
    "df.groupby('year').size()\n"
   ]
  },
  {
   "cell_type": "markdown",
   "id": "c357e978",
   "metadata": {},
   "source": [
    "**3.3) Que pouvez-vous conclure concernant les donneés manquantes:**\n",
    "\n",
    "(1 point)\n",
    "\n",
    "*Réponse:*\n",
    "\n",
    "> Il ne manque pas de données, chaque pays contient 12 mesures aux mêmes années.\n"
   ]
  },
  {
   "cell_type": "markdown",
   "id": "1fc0f78a",
   "metadata": {},
   "source": [
    "___\n",
    "**3.4) Listez les valeurs uniques présentes dans les colonnes ‘continent’, ‘country’, et ‘year’. Utilisez la méthode *unique()*.** \n",
    "\n",
    "(3 points)\n",
    "\n",
    "Aide: vous pouvez utiliser *df['Nom Colonne']* ou *df.loc[:,'Nom colonne']* pour retourner directement le contenu d'une colonne. "
   ]
  },
  {
   "cell_type": "code",
   "execution_count": 9,
   "id": "29f5d97d",
   "metadata": {},
   "outputs": [
    {
     "data": {
      "text/plain": [
       "array(['Asia', 'Europe', 'Africa', 'Americas', 'Oceania'], dtype=object)"
      ]
     },
     "execution_count": 9,
     "metadata": {},
     "output_type": "execute_result"
    }
   ],
   "source": [
    "# Écrivez votre code ici. Note: une seule ligne suffit par colonne. Affichez vos résultats dans des cellules différentes.  \n",
    "\n",
    "# Continent\n",
    "df['continent'].unique()"
   ]
  },
  {
   "cell_type": "code",
   "execution_count": 10,
   "id": "b9ac93de",
   "metadata": {},
   "outputs": [
    {
     "data": {
      "text/plain": [
       "array(['Afghanistan', 'Albania', 'Algeria', 'Angola', 'Argentina',\n",
       "       'Australia', 'Austria', 'Bahrain', 'Bangladesh', 'Belgium',\n",
       "       'Benin', 'Bolivia', 'Bosnia and Herzegovina', 'Botswana', 'Brazil',\n",
       "       'Bulgaria', 'Burkina Faso', 'Burundi', 'Cambodia', 'Cameroon',\n",
       "       'Canada', 'Central African Republic', 'Chad', 'Chile', 'China',\n",
       "       'Colombia', 'Comoros', 'Congo, Dem. Rep.', 'Congo, Rep.',\n",
       "       'Costa Rica', \"Cote d'Ivoire\", 'Croatia', 'Cuba', 'Czech Republic',\n",
       "       'Denmark', 'Djibouti', 'Dominican Republic', 'Ecuador', 'Egypt',\n",
       "       'El Salvador', 'Equatorial Guinea', 'Eritrea', 'Ethiopia',\n",
       "       'Finland', 'France', 'Gabon', 'Gambia', 'Germany', 'Ghana',\n",
       "       'Greece', 'Guatemala', 'Guinea', 'Guinea-Bissau', 'Haiti',\n",
       "       'Honduras', 'Hong Kong, China', 'Hungary', 'Iceland', 'India',\n",
       "       'Indonesia', 'Iran', 'Iraq', 'Ireland', 'Israel', 'Italy',\n",
       "       'Jamaica', 'Japan', 'Jordan', 'Kenya', 'Korea, Dem. Rep.',\n",
       "       'Korea, Rep.', 'Kuwait', 'Lebanon', 'Lesotho', 'Liberia', 'Libya',\n",
       "       'Madagascar', 'Malawi', 'Malaysia', 'Mali', 'Mauritania',\n",
       "       'Mauritius', 'Mexico', 'Mongolia', 'Montenegro', 'Morocco',\n",
       "       'Mozambique', 'Myanmar', 'Namibia', 'Nepal', 'Netherlands',\n",
       "       'New Zealand', 'Nicaragua', 'Niger', 'Nigeria', 'Norway', 'Oman',\n",
       "       'Pakistan', 'Panama', 'Paraguay', 'Peru', 'Philippines', 'Poland',\n",
       "       'Portugal', 'Puerto Rico', 'Reunion', 'Romania', 'Rwanda',\n",
       "       'Sao Tome and Principe', 'Saudi Arabia', 'Senegal', 'Serbia',\n",
       "       'Sierra Leone', 'Singapore', 'Slovak Republic', 'Slovenia',\n",
       "       'Somalia', 'South Africa', 'Spain', 'Sri Lanka', 'Sudan',\n",
       "       'Swaziland', 'Sweden', 'Switzerland', 'Syria', 'Taiwan',\n",
       "       'Tanzania', 'Thailand', 'Togo', 'Trinidad and Tobago', 'Tunisia',\n",
       "       'Turkey', 'Uganda', 'United Kingdom', 'United States', 'Uruguay',\n",
       "       'Venezuela', 'Vietnam', 'West Bank and Gaza', 'Yemen, Rep.',\n",
       "       'Zambia', 'Zimbabwe'], dtype=object)"
      ]
     },
     "execution_count": 10,
     "metadata": {},
     "output_type": "execute_result"
    }
   ],
   "source": [
    "# Country\n",
    "df['country'].unique()"
   ]
  },
  {
   "cell_type": "code",
   "execution_count": 11,
   "id": "176b5a78",
   "metadata": {},
   "outputs": [
    {
     "data": {
      "text/plain": [
       "array([1952, 1957, 1962, 1967, 1972, 1977, 1982, 1987, 1992, 1997, 2002,\n",
       "       2007])"
      ]
     },
     "execution_count": 11,
     "metadata": {},
     "output_type": "execute_result"
    }
   ],
   "source": [
    "# Year\n",
    "df['year'].unique()"
   ]
  },
  {
   "cell_type": "markdown",
   "id": "90cbcfb6",
   "metadata": {},
   "source": [
    "<div class=\"alert alert-block alert-info\">\n",
    "<b>Corrections: </b> Points obtenus: /9\n",
    "</div>\n",
    "\n",
    "Remarques: "
   ]
  },
  {
   "cell_type": "markdown",
   "id": "34e678e0",
   "metadata": {},
   "source": [
    "___\n",
    "\n",
    "### Manipulations et graphiques\n",
    "\n",
    "**4.1) Calculez la moyenne de l’espérance de vie de tous les pays en 1952 et en 2007. Générez un bar chart permettant la comparaison de ces moyennes.**\n",
    "\n",
    "(5 points)\n",
    "\n",
    "Pour sélectionner les données des bonnes années, regardez les [exemples de la doc (\"Getting values\")](https://pandas.pydata.org/docs/reference/api/pandas.DataFrame.loc.html) pour vous aider à comprendre comment faire à l'aide de conditions. \n",
    "\n",
    "\n",
    "Une fois que vous avez un nouveau DataFrame avec uniquement les données de 1952 et 2007, gardez uniquement les colonnes d'intérêt (year et lifeExp), groupez les données par année et calculez la moyenne de l'espérence de vie. Une fois ceci fait, utilisez la fonction ```df.plot.bar()``` \n",
    "\n",
    "Aide: vous pouvez utiliser plusieur .loc[] d'affilée, une fois pour choisir les années, et une fois pour choisir les colonnes d'intérêt. **Regardez l'exemple ci-dessous pour vous aider**.\n",
    "\n",
    "Notes: toutes ces opérations peuvent être effectuées à la chaîne, en une seule ligne. Si vous souhaitez faire cela petit à petit, n'oubliez pas d'enregistrer vos résultats intermédiaires dans une variable: ``` tmp_df = df.loc[\"exemple\"]```. **Vous pouvez créer des cellules supplémentaires si vous l'estimez nécessaire.**\n",
    "\n",
    "\n"
   ]
  },
  {
   "cell_type": "code",
   "execution_count": 12,
   "id": "4d7b764d",
   "metadata": {},
   "outputs": [
    {
     "data": {
      "image/png": "[encoded data removed]",
      "text/plain": [
       "<Figure size 1152x576 with 1 Axes>"
      ]
     },
     "metadata": {
      "needs_background": "light"
     },
     "output_type": "display_data"
    }
   ],
   "source": [
    "# Écrivez votre code ici\n",
    "\n",
    "plt_lexp = df[df['year'].isin([1952, 2007])][['year', 'lifeExp']].groupby('year').mean('lifeExp').plot.bar(rot=45, figsize=(16, 8))\n",
    "plt_lexp.set_title('Overall mean of life expectancy in 1952 and 2007');"
   ]
  },
  {
   "cell_type": "markdown",
   "id": "783a0ee3",
   "metadata": {},
   "source": [
    "Ci-dessous, un petit **exemple** qui utilise le \"method chaining\". Cette notation, qui profite du fait que chaque methode Pandas retourne un DataFrame auquel on peut appliquer une nouvelle méthode, augmente grandement la lisibiltié du code. Vous trouvez une section avec un exemple sur [La cheat sheet \"Data wrangling with Pandas\"](https://pandas.pydata.org/Pandas_Cheat_Sheet.pdf). \n",
    "\n",
    ">Most pandas methods return a DataFrame so that another pandas method can be applied to the result. This improves readability of code.\n",
    "\n",
    "\n",
    "En plus de chaîner les méthodes, le graphique est rendu beaucoup plus lisible en y ajoutant des axes bien nommés, un titre et des labels inclinés. Libre à vous de vous inspirer de cet exemple pour l'exercice 5. "
   ]
  },
  {
   "cell_type": "code",
   "execution_count": 13,
   "id": "d60e29dd",
   "metadata": {},
   "outputs": [
    {
     "data": {
      "image/png": "[encoded data removed]",
      "text/plain": [
       "<Figure size 1152x576 with 1 Axes>"
      ]
     },
     "metadata": {
      "needs_background": "light"
     },
     "output_type": "display_data"
    }
   ],
   "source": [
    "# Exemple\n",
    "\n",
    "ax = (df\n",
    "      .loc[:, ['continent', 'lifeExp']]\n",
    "      .groupby('continent')\n",
    "      .mean('lifeExp')\n",
    "      .plot.bar(rot=45, figsize=(16, 8))\n",
    "      )\n",
    "ax.set_title('Overall mean of life expectancy per continent', fontsize=14)\n",
    "ax.set_xlabel('Continent', fontsize=12)\n",
    "ax.set_ylabel('Life expectancy', fontsize=12);"
   ]
  },
  {
   "cell_type": "markdown",
   "id": "a9ad9254",
   "metadata": {},
   "source": [
    "\n",
    "___"
   ]
  },
  {
   "cell_type": "markdown",
   "id": "a6f571a0",
   "metadata": {},
   "source": [
    "\n",
    "**4.2) Calculez la moyenne de l’espérance de vie des pays par continent en 1952 et en 2007. Générez un bar chart permettant la comparaison de ces moyennes.**\n",
    "\n",
    "(5 points)\n",
    "\n",
    "Comme pour l'exercice précédent, vous devez transformer vos données avant de les afficher. Ici vous devez grouper sur deux niveaux: par année puis par continent. Le graphique final aura un aspect similaire à celui ci-dessus, avec deux barres par continent: une pour 1952 et une pour 2007.\n",
    "\n",
    "Pour avoir le format de données attendu pour générer l'histogramme ( Continent | 1952 | 2007 ) voous devrez utiliser la fonction [unstack()](https://pandas.pydata.org/docs/reference/api/pandas.DataFrame.unstack.html). Lisez rapidement la documentation pour en comprendre le sens puis transformez vos données ci-dessous. On vous conseille de lire [cet article de la documentation](https://pandas.pydata.org/docs/user_guide/reshaping.html) pour bien comprendre les différentes manipulations appliquées aux données. Des exemples avec images permettent une bonne compréhension, spécialement pour la fonction *unstack()* qui peut être un peu abstraite au début. \n",
    "\n",
    "\n",
    "**Note:** dans la cellule à compléter ci-dessous, le résultat n'est pas affecté à une variable mais uniquement affiché en sortie pour tester le code. Pour affecter le résultat remplissez la cellule d'après comme indiqué, avec le résultat de vos essais. \n",
    "\n"
   ]
  },
  {
   "cell_type": "code",
   "execution_count": 14,
   "id": "e5dd9ce2",
   "metadata": {},
   "outputs": [
    {
     "data": {
      "text/html": [
       "<div>\n",
       "<style scoped>\n",
       "    .dataframe tbody tr th:only-of-type {\n",
       "        vertical-align: middle;\n",
       "    }\n",
       "\n",
       "    .dataframe tbody tr th {\n",
       "        vertical-align: top;\n",
       "    }\n",
       "\n",
       "    .dataframe thead tr th {\n",
       "        text-align: left;\n",
       "    }\n",
       "\n",
       "    .dataframe thead tr:last-of-type th {\n",
       "        text-align: right;\n",
       "    }\n",
       "</style>\n",
       "<table border=\"1\" class=\"dataframe\">\n",
       "  <thead>\n",
       "    <tr>\n",
       "      <th></th>\n",
       "      <th colspan=\"2\" halign=\"left\">lifeExp</th>\n",
       "    </tr>\n",
       "    <tr>\n",
       "      <th>year</th>\n",
       "      <th>1952</th>\n",
       "      <th>2007</th>\n",
       "    </tr>\n",
       "    <tr>\n",
       "      <th>continent</th>\n",
       "      <th></th>\n",
       "      <th></th>\n",
       "    </tr>\n",
       "  </thead>\n",
       "  <tbody>\n",
       "    <tr>\n",
       "      <th>Africa</th>\n",
       "      <td>39.135500</td>\n",
       "      <td>54.806038</td>\n",
       "    </tr>\n",
       "    <tr>\n",
       "      <th>Americas</th>\n",
       "      <td>53.279840</td>\n",
       "      <td>73.608120</td>\n",
       "    </tr>\n",
       "    <tr>\n",
       "      <th>Asia</th>\n",
       "      <td>46.314394</td>\n",
       "      <td>70.728485</td>\n",
       "    </tr>\n",
       "    <tr>\n",
       "      <th>Europe</th>\n",
       "      <td>64.408500</td>\n",
       "      <td>77.648600</td>\n",
       "    </tr>\n",
       "    <tr>\n",
       "      <th>Oceania</th>\n",
       "      <td>69.255000</td>\n",
       "      <td>80.719500</td>\n",
       "    </tr>\n",
       "  </tbody>\n",
       "</table>\n",
       "</div>"
      ],
      "text/plain": [
       "             lifeExp           \n",
       "year            1952       2007\n",
       "continent                      \n",
       "Africa     39.135500  54.806038\n",
       "Americas   53.279840  73.608120\n",
       "Asia       46.314394  70.728485\n",
       "Europe     64.408500  77.648600\n",
       "Oceania    69.255000  80.719500"
      ]
     },
     "execution_count": 14,
     "metadata": {},
     "output_type": "execute_result"
    }
   ],
   "source": [
    "# Testez votre code ici (qui ne fait qu'afficher le dataFrame transformé). Profitez de \"jouer\" avec les différentes fonctions.\n",
    "\n",
    "df[df['year'].isin([1952, 2007])][['year', 'continent', 'lifeExp']].groupby(['continent', 'year']).mean('lifeExp').unstack()"
   ]
  },
  {
   "cell_type": "code",
   "execution_count": 15,
   "id": "979e06a0",
   "metadata": {
    "scrolled": true
   },
   "outputs": [
    {
     "data": {
      "text/html": [
       "<div>\n",
       "<style scoped>\n",
       "    .dataframe tbody tr th:only-of-type {\n",
       "        vertical-align: middle;\n",
       "    }\n",
       "\n",
       "    .dataframe tbody tr th {\n",
       "        vertical-align: top;\n",
       "    }\n",
       "\n",
       "    .dataframe thead tr th {\n",
       "        text-align: left;\n",
       "    }\n",
       "\n",
       "    .dataframe thead tr:last-of-type th {\n",
       "        text-align: right;\n",
       "    }\n",
       "</style>\n",
       "<table border=\"1\" class=\"dataframe\">\n",
       "  <thead>\n",
       "    <tr>\n",
       "      <th></th>\n",
       "      <th colspan=\"2\" halign=\"left\">lifeExp</th>\n",
       "    </tr>\n",
       "    <tr>\n",
       "      <th>year</th>\n",
       "      <th>1952</th>\n",
       "      <th>2007</th>\n",
       "    </tr>\n",
       "    <tr>\n",
       "      <th>continent</th>\n",
       "      <th></th>\n",
       "      <th></th>\n",
       "    </tr>\n",
       "  </thead>\n",
       "  <tbody>\n",
       "    <tr>\n",
       "      <th>Africa</th>\n",
       "      <td>39.135500</td>\n",
       "      <td>54.806038</td>\n",
       "    </tr>\n",
       "    <tr>\n",
       "      <th>Americas</th>\n",
       "      <td>53.279840</td>\n",
       "      <td>73.608120</td>\n",
       "    </tr>\n",
       "    <tr>\n",
       "      <th>Asia</th>\n",
       "      <td>46.314394</td>\n",
       "      <td>70.728485</td>\n",
       "    </tr>\n",
       "    <tr>\n",
       "      <th>Europe</th>\n",
       "      <td>64.408500</td>\n",
       "      <td>77.648600</td>\n",
       "    </tr>\n",
       "    <tr>\n",
       "      <th>Oceania</th>\n",
       "      <td>69.255000</td>\n",
       "      <td>80.719500</td>\n",
       "    </tr>\n",
       "  </tbody>\n",
       "</table>\n",
       "</div>"
      ],
      "text/plain": [
       "             lifeExp           \n",
       "year            1952       2007\n",
       "continent                      \n",
       "Africa     39.135500  54.806038\n",
       "Americas   53.279840  73.608120\n",
       "Asia       46.314394  70.728485\n",
       "Europe     64.408500  77.648600\n",
       "Oceania    69.255000  80.719500"
      ]
     },
     "execution_count": 15,
     "metadata": {},
     "output_type": "execute_result"
    }
   ],
   "source": [
    "# Ajoutez votre code ici pour créer le dataFrame df_life_exp. Sans modification il sera égal à df\n",
    "\n",
    "df_life_exp = df[df['year'].isin([1952, 2007])][['year', 'continent', 'lifeExp']].groupby(['continent', 'year']).mean('lifeExp').unstack()\n",
    "df_life_exp"
   ]
  },
  {
   "cell_type": "code",
   "execution_count": 16,
   "id": "192b97cf",
   "metadata": {},
   "outputs": [
    {
     "data": {
      "text/plain": [
       "<matplotlib.legend.Legend at 0x7f8d0146bb20>"
      ]
     },
     "execution_count": 16,
     "metadata": {},
     "output_type": "execute_result"
    },
    {
     "data": {
      "image/png": "[encoded data removed]",
      "text/plain": [
       "<Figure size 1152x432 with 1 Axes>"
      ]
     },
     "metadata": {
      "needs_background": "light"
     },
     "output_type": "display_data"
    }
   ],
   "source": [
    "# Exécutez cette cellule pour afficher le graphique une fois df_life_exp formaté correctement.\n",
    "\n",
    "# Barplot des deux années, par continent\n",
    "ax = (df_life_exp\n",
    "      .plot.bar(rot=45, figsize=(16, 6))\n",
    "      )\n",
    "ax.set_xlabel('Continent', fontsize=12)\n",
    "ax.set_ylabel('Life Expectancy', fontsize=12)\n",
    "ax.set_title('Life Expectancy by continent in 1952 and 2007', fontsize=14)\n",
    "# Rename legend to remove the None and the `LifeExp`.\n",
    "ax.legend(labels=['1952', '2007'])\n"
   ]
  },
  {
   "cell_type": "markdown",
   "id": "1eeb9913",
   "metadata": {},
   "source": [
    "**4.3) Question** \n",
    "\n",
    "Quel pays affiche la plus grande progression de l'espérance de vie ?\n",
    "\n",
    "(1 point)"
   ]
  },
  {
   "cell_type": "markdown",
   "id": "31f68f20",
   "metadata": {},
   "source": [
    "Pour en être sûr, regardez la différence entre les moyennes des deux années en exécutant le code ci-dessous. Jettez un oeil à la fonction [pandas.diff()](https://pandas.pydata.org/docs/reference/api/pandas.DataFrame.diff.html). Donnez votre réponse en plus d'une courte explication de la fonction *diff()*. "
   ]
  },
  {
   "cell_type": "markdown",
   "id": "eeaeefed",
   "metadata": {},
   "source": [
    "*Réponse:*\n",
    "\n",
    "> Oman a augmenté son espérance de vie de 38 années entre 1952 et 2007.\n",
    ">\n",
    "> En termes de continents, c'est l'Asie qui a eu la plus grande progression.\n",
    ">\n",
    "> `diff()` permet d'avoir la première différence discrète de l'élément.\n",
    "> Calcule la différence d'un élément du tableau par rapport à un autre élément du tableau (par défaut, l'élément de la ligne précédente).\n",
    "> Dans notre cas, on fait la différence avec la colonne précédente, car on utilise `axis=1`"
   ]
  },
  {
   "cell_type": "code",
   "execution_count": 17,
   "id": "17a1d630",
   "metadata": {},
   "outputs": [
    {
     "data": {
      "text/html": [
       "<div>\n",
       "<style scoped>\n",
       "    .dataframe tbody tr th:only-of-type {\n",
       "        vertical-align: middle;\n",
       "    }\n",
       "\n",
       "    .dataframe tbody tr th {\n",
       "        vertical-align: top;\n",
       "    }\n",
       "\n",
       "    .dataframe thead tr th {\n",
       "        text-align: left;\n",
       "    }\n",
       "\n",
       "    .dataframe thead tr:last-of-type th {\n",
       "        text-align: right;\n",
       "    }\n",
       "</style>\n",
       "<table border=\"1\" class=\"dataframe\">\n",
       "  <thead>\n",
       "    <tr>\n",
       "      <th></th>\n",
       "      <th colspan=\"2\" halign=\"left\">lifeExp</th>\n",
       "    </tr>\n",
       "    <tr>\n",
       "      <th>year</th>\n",
       "      <th>1952</th>\n",
       "      <th>2007</th>\n",
       "    </tr>\n",
       "    <tr>\n",
       "      <th>country</th>\n",
       "      <th></th>\n",
       "      <th></th>\n",
       "    </tr>\n",
       "  </thead>\n",
       "  <tbody>\n",
       "    <tr>\n",
       "      <th>Oman</th>\n",
       "      <td>NaN</td>\n",
       "      <td>38.062</td>\n",
       "    </tr>\n",
       "    <tr>\n",
       "      <th>Vietnam</th>\n",
       "      <td>NaN</td>\n",
       "      <td>33.837</td>\n",
       "    </tr>\n",
       "    <tr>\n",
       "      <th>Indonesia</th>\n",
       "      <td>NaN</td>\n",
       "      <td>33.182</td>\n",
       "    </tr>\n",
       "    <tr>\n",
       "      <th>Saudi Arabia</th>\n",
       "      <td>NaN</td>\n",
       "      <td>32.902</td>\n",
       "    </tr>\n",
       "    <tr>\n",
       "      <th>Libya</th>\n",
       "      <td>NaN</td>\n",
       "      <td>31.229</td>\n",
       "    </tr>\n",
       "    <tr>\n",
       "      <th>...</th>\n",
       "      <td>...</td>\n",
       "      <td>...</td>\n",
       "    </tr>\n",
       "    <tr>\n",
       "      <th>Botswana</th>\n",
       "      <td>NaN</td>\n",
       "      <td>3.106</td>\n",
       "    </tr>\n",
       "    <tr>\n",
       "      <th>Lesotho</th>\n",
       "      <td>NaN</td>\n",
       "      <td>0.454</td>\n",
       "    </tr>\n",
       "    <tr>\n",
       "      <th>Zambia</th>\n",
       "      <td>NaN</td>\n",
       "      <td>0.346</td>\n",
       "    </tr>\n",
       "    <tr>\n",
       "      <th>Swaziland</th>\n",
       "      <td>NaN</td>\n",
       "      <td>-1.794</td>\n",
       "    </tr>\n",
       "    <tr>\n",
       "      <th>Zimbabwe</th>\n",
       "      <td>NaN</td>\n",
       "      <td>-4.964</td>\n",
       "    </tr>\n",
       "  </tbody>\n",
       "</table>\n",
       "<p>142 rows × 2 columns</p>\n",
       "</div>"
      ],
      "text/plain": [
       "             lifeExp        \n",
       "year            1952    2007\n",
       "country                     \n",
       "Oman             NaN  38.062\n",
       "Vietnam          NaN  33.837\n",
       "Indonesia        NaN  33.182\n",
       "Saudi Arabia     NaN  32.902\n",
       "Libya            NaN  31.229\n",
       "...              ...     ...\n",
       "Botswana         NaN   3.106\n",
       "Lesotho          NaN   0.454\n",
       "Zambia           NaN   0.346\n",
       "Swaziland        NaN  -1.794\n",
       "Zimbabwe         NaN  -4.964\n",
       "\n",
       "[142 rows x 2 columns]"
      ]
     },
     "execution_count": 17,
     "metadata": {},
     "output_type": "execute_result"
    }
   ],
   "source": [
    "# On peut voir la progression en faisant la différence entre les deux colonnes (1952 et 2007).\n",
    "\n",
    "df[df['year'].isin(df['year'].agg(['min', 'max']))][['year', 'country', 'lifeExp']].groupby(['country', 'year']).mean().unstack().diff(axis=1).sort_values(('lifeExp', 2007), ascending=False)"
   ]
  },
  {
   "cell_type": "markdown",
   "id": "befd2bf0",
   "metadata": {},
   "source": [
    "<div class=\"alert alert-block alert-info\">\n",
    "<b>Corrections 4.1 - 4.3: </b> Points obtenus: /11\n",
    "</div>\n",
    "\n",
    "Remarques: "
   ]
  },
  {
   "cell_type": "markdown",
   "id": "f0f0de65",
   "metadata": {},
   "source": [
    "___\n",
    "**Afin de visualiser la population par continent au fil du temps, nous créons le graphique ci-dessous.**"
   ]
  },
  {
   "cell_type": "code",
   "execution_count": 18,
   "id": "6c292b8c",
   "metadata": {
    "scrolled": false
   },
   "outputs": [
    {
     "data": {
      "text/plain": [
       "<matplotlib.legend.Legend at 0x7f8d0153f130>"
      ]
     },
     "execution_count": 18,
     "metadata": {},
     "output_type": "execute_result"
    },
    {
     "data": {
      "image/png": "[encoded data removed]",
      "text/plain": [
       "<Figure size 1152x576 with 1 Axes>"
      ]
     },
     "metadata": {
      "needs_background": "light"
     },
     "output_type": "display_data"
    }
   ],
   "source": [
    "# Evolution of the population by continent from 1952 to 2007.\n",
    "ax = (df\n",
    "      .loc[:, ['year', 'continent', 'pop']]\n",
    "      .groupby(['year', 'continent'])\n",
    "      .mean('pop')\n",
    "      .unstack('continent')\n",
    "      .plot(rot=45, figsize=(16, 8))\n",
    "      )\n",
    "ax.set_xlabel('Year', fontsize=12)\n",
    "ax.set_ylabel('Population', fontsize=12)\n",
    "ax.set_title('Population by continent from 1952 to 2007', fontsize=14)\n",
    "ax.legend(sorted(df['continent'].unique()))"
   ]
  },
  {
   "cell_type": "markdown",
   "id": "8688fc9c",
   "metadata": {},
   "source": [
    "**4.4) Que pouvez vous conclure à partir de ce graphique ?**\n",
    "\n",
    "(1 points)"
   ]
  },
  {
   "cell_type": "markdown",
   "id": "bba767b7",
   "metadata": {},
   "source": [
    "*Réponse:*\n",
    "\n",
    "> La population en Asie augmente plus rapidement que les autres continents.\n",
    "> La population en Europe est pratiquement constante.\n",
    ">\n",
    "> À noter que le graphique présenté ici considère la moyenne de la population de tous les pays d'un continent, ce qui ne\n",
    "> correspond pas à la légende. Il serait plus indicatif d'utiliser la somme de la population de tous les pays d'un continent."
   ]
  },
  {
   "cell_type": "markdown",
   "id": "74bc1cff",
   "metadata": {},
   "source": [
    "**4.5) Décrivez chaque étape de transformation des données.**\n",
    "\n",
    "(5 points)\n",
    "\n",
    "Par exemple:\n",
    "\n",
    "*.loc[:, 'X'] : extrait la colonne \"X\" du DataFrame*\n",
    "\n",
    "*.method : fait quelque chose*\n",
    "\n",
    "...\n"
   ]
  },
  {
   "cell_type": "markdown",
   "id": "e9f6016b",
   "metadata": {},
   "source": [
    "*Réponse:*\n",
    "\n",
    "> `.loc[:, ['year', 'continent', 'pop']]` permet d'extraire les colonnes 'year', 'continent' et 'pop' du tableau\n",
    ">\n",
    "> `.groupby(['year', 'continent'])` permet de regrouper par année et par continent\n",
    ">\n",
    "> `.mean('pop')` permet de prendre la moyenne de la population de tous les pays d'un continent\n",
    ">\n",
    "> `.unstack('continent')` permet de regrouper les continents par colonnes du tableau\n",
    ">\n",
    "> `.plot(rot=45, figsize=(16, 8))` permet d'afficher un graphique en lignes de l'évolution des données pour chaque année et chaque continent"
   ]
  },
  {
   "cell_type": "markdown",
   "id": "80fae5cd",
   "metadata": {},
   "source": [
    "**4.6) Affichez les données transformées qui sont passées à la fonction *plot()***. (recopiez simplement le bout de code concerné)\n",
    "\n",
    "(2 points)"
   ]
  },
  {
   "cell_type": "code",
   "execution_count": 19,
   "id": "ab4ac8d1",
   "metadata": {},
   "outputs": [
    {
     "data": {
      "text/html": [
       "<div>\n",
       "<style scoped>\n",
       "    .dataframe tbody tr th:only-of-type {\n",
       "        vertical-align: middle;\n",
       "    }\n",
       "\n",
       "    .dataframe tbody tr th {\n",
       "        vertical-align: top;\n",
       "    }\n",
       "\n",
       "    .dataframe thead tr th {\n",
       "        text-align: left;\n",
       "    }\n",
       "\n",
       "    .dataframe thead tr:last-of-type th {\n",
       "        text-align: right;\n",
       "    }\n",
       "</style>\n",
       "<table border=\"1\" class=\"dataframe\">\n",
       "  <thead>\n",
       "    <tr>\n",
       "      <th></th>\n",
       "      <th colspan=\"5\" halign=\"left\">pop</th>\n",
       "    </tr>\n",
       "    <tr>\n",
       "      <th>continent</th>\n",
       "      <th>Africa</th>\n",
       "      <th>Americas</th>\n",
       "      <th>Asia</th>\n",
       "      <th>Europe</th>\n",
       "      <th>Oceania</th>\n",
       "    </tr>\n",
       "    <tr>\n",
       "      <th>year</th>\n",
       "      <th></th>\n",
       "      <th></th>\n",
       "      <th></th>\n",
       "      <th></th>\n",
       "      <th></th>\n",
       "    </tr>\n",
       "  </thead>\n",
       "  <tbody>\n",
       "    <tr>\n",
       "      <th>1952</th>\n",
       "      <td>4.570010e+06</td>\n",
       "      <td>13806097.84</td>\n",
       "      <td>4.228356e+07</td>\n",
       "      <td>1.393736e+07</td>\n",
       "      <td>5343003.0</td>\n",
       "    </tr>\n",
       "    <tr>\n",
       "      <th>1957</th>\n",
       "      <td>5.093033e+06</td>\n",
       "      <td>15478156.64</td>\n",
       "      <td>4.735699e+07</td>\n",
       "      <td>1.459635e+07</td>\n",
       "      <td>5970988.0</td>\n",
       "    </tr>\n",
       "    <tr>\n",
       "      <th>1962</th>\n",
       "      <td>5.702247e+06</td>\n",
       "      <td>17330810.16</td>\n",
       "      <td>5.140476e+07</td>\n",
       "      <td>1.534517e+07</td>\n",
       "      <td>6641759.0</td>\n",
       "    </tr>\n",
       "    <tr>\n",
       "      <th>1967</th>\n",
       "      <td>6.447875e+06</td>\n",
       "      <td>19229864.92</td>\n",
       "      <td>5.774736e+07</td>\n",
       "      <td>1.603930e+07</td>\n",
       "      <td>7300207.0</td>\n",
       "    </tr>\n",
       "    <tr>\n",
       "      <th>1972</th>\n",
       "      <td>7.305376e+06</td>\n",
       "      <td>21175368.40</td>\n",
       "      <td>6.518098e+07</td>\n",
       "      <td>1.668784e+07</td>\n",
       "      <td>8053050.0</td>\n",
       "    </tr>\n",
       "    <tr>\n",
       "      <th>1977</th>\n",
       "      <td>8.328097e+06</td>\n",
       "      <td>23122707.96</td>\n",
       "      <td>7.225799e+07</td>\n",
       "      <td>1.723882e+07</td>\n",
       "      <td>8619500.0</td>\n",
       "    </tr>\n",
       "    <tr>\n",
       "      <th>1982</th>\n",
       "      <td>9.602857e+06</td>\n",
       "      <td>25211636.80</td>\n",
       "      <td>7.909502e+07</td>\n",
       "      <td>1.770890e+07</td>\n",
       "      <td>9197425.0</td>\n",
       "    </tr>\n",
       "    <tr>\n",
       "      <th>1987</th>\n",
       "      <td>1.105450e+07</td>\n",
       "      <td>27310158.84</td>\n",
       "      <td>8.700669e+07</td>\n",
       "      <td>1.810314e+07</td>\n",
       "      <td>9787207.5</td>\n",
       "    </tr>\n",
       "    <tr>\n",
       "      <th>1992</th>\n",
       "      <td>1.267464e+07</td>\n",
       "      <td>29570964.16</td>\n",
       "      <td>9.494825e+07</td>\n",
       "      <td>1.860476e+07</td>\n",
       "      <td>10459825.5</td>\n",
       "    </tr>\n",
       "    <tr>\n",
       "      <th>1997</th>\n",
       "      <td>1.430448e+07</td>\n",
       "      <td>31876016.40</td>\n",
       "      <td>1.025238e+08</td>\n",
       "      <td>1.896480e+07</td>\n",
       "      <td>11120715.0</td>\n",
       "    </tr>\n",
       "    <tr>\n",
       "      <th>2002</th>\n",
       "      <td>1.603315e+07</td>\n",
       "      <td>33990910.48</td>\n",
       "      <td>1.091455e+08</td>\n",
       "      <td>1.927413e+07</td>\n",
       "      <td>11727414.5</td>\n",
       "    </tr>\n",
       "    <tr>\n",
       "      <th>2007</th>\n",
       "      <td>1.787576e+07</td>\n",
       "      <td>35954847.36</td>\n",
       "      <td>1.155138e+08</td>\n",
       "      <td>1.953662e+07</td>\n",
       "      <td>12274973.5</td>\n",
       "    </tr>\n",
       "  </tbody>\n",
       "</table>\n",
       "</div>"
      ],
      "text/plain": [
       "                    pop                                                     \n",
       "continent        Africa     Americas          Asia        Europe     Oceania\n",
       "year                                                                        \n",
       "1952       4.570010e+06  13806097.84  4.228356e+07  1.393736e+07   5343003.0\n",
       "1957       5.093033e+06  15478156.64  4.735699e+07  1.459635e+07   5970988.0\n",
       "1962       5.702247e+06  17330810.16  5.140476e+07  1.534517e+07   6641759.0\n",
       "1967       6.447875e+06  19229864.92  5.774736e+07  1.603930e+07   7300207.0\n",
       "1972       7.305376e+06  21175368.40  6.518098e+07  1.668784e+07   8053050.0\n",
       "1977       8.328097e+06  23122707.96  7.225799e+07  1.723882e+07   8619500.0\n",
       "1982       9.602857e+06  25211636.80  7.909502e+07  1.770890e+07   9197425.0\n",
       "1987       1.105450e+07  27310158.84  8.700669e+07  1.810314e+07   9787207.5\n",
       "1992       1.267464e+07  29570964.16  9.494825e+07  1.860476e+07  10459825.5\n",
       "1997       1.430448e+07  31876016.40  1.025238e+08  1.896480e+07  11120715.0\n",
       "2002       1.603315e+07  33990910.48  1.091455e+08  1.927413e+07  11727414.5\n",
       "2007       1.787576e+07  35954847.36  1.155138e+08  1.953662e+07  12274973.5"
      ]
     },
     "execution_count": 19,
     "metadata": {},
     "output_type": "execute_result"
    }
   ],
   "source": [
    "# Écrivez votre code ici:\n",
    "\n",
    "df.loc[:, ['year', 'continent', 'pop']].groupby(['year', 'continent']).mean('pop').unstack('continent')"
   ]
  },
  {
   "cell_type": "code",
   "execution_count": 20,
   "id": "ed615536",
   "metadata": {
    "scrolled": false
   },
   "outputs": [
    {
     "data": {
      "text/html": [
       "<div>\n",
       "<style scoped>\n",
       "    .dataframe tbody tr th:only-of-type {\n",
       "        vertical-align: middle;\n",
       "    }\n",
       "\n",
       "    .dataframe tbody tr th {\n",
       "        vertical-align: top;\n",
       "    }\n",
       "\n",
       "    .dataframe thead tr th {\n",
       "        text-align: left;\n",
       "    }\n",
       "\n",
       "    .dataframe thead tr:last-of-type th {\n",
       "        text-align: right;\n",
       "    }\n",
       "</style>\n",
       "<table border=\"1\" class=\"dataframe\">\n",
       "  <thead>\n",
       "    <tr>\n",
       "      <th></th>\n",
       "      <th colspan=\"5\" halign=\"left\">pop</th>\n",
       "    </tr>\n",
       "    <tr>\n",
       "      <th>continent</th>\n",
       "      <th>Africa</th>\n",
       "      <th>Americas</th>\n",
       "      <th>Asia</th>\n",
       "      <th>Europe</th>\n",
       "      <th>Oceania</th>\n",
       "    </tr>\n",
       "    <tr>\n",
       "      <th>year</th>\n",
       "      <th></th>\n",
       "      <th></th>\n",
       "      <th></th>\n",
       "      <th></th>\n",
       "      <th></th>\n",
       "    </tr>\n",
       "  </thead>\n",
       "  <tbody>\n",
       "    <tr>\n",
       "      <th>1952</th>\n",
       "      <td>4.570010e+06</td>\n",
       "      <td>13806097.84</td>\n",
       "      <td>4.228356e+07</td>\n",
       "      <td>1.393736e+07</td>\n",
       "      <td>5343003.0</td>\n",
       "    </tr>\n",
       "    <tr>\n",
       "      <th>1957</th>\n",
       "      <td>5.093033e+06</td>\n",
       "      <td>15478156.64</td>\n",
       "      <td>4.735699e+07</td>\n",
       "      <td>1.459635e+07</td>\n",
       "      <td>5970988.0</td>\n",
       "    </tr>\n",
       "    <tr>\n",
       "      <th>1962</th>\n",
       "      <td>5.702247e+06</td>\n",
       "      <td>17330810.16</td>\n",
       "      <td>5.140476e+07</td>\n",
       "      <td>1.534517e+07</td>\n",
       "      <td>6641759.0</td>\n",
       "    </tr>\n",
       "    <tr>\n",
       "      <th>1967</th>\n",
       "      <td>6.447875e+06</td>\n",
       "      <td>19229864.92</td>\n",
       "      <td>5.774736e+07</td>\n",
       "      <td>1.603930e+07</td>\n",
       "      <td>7300207.0</td>\n",
       "    </tr>\n",
       "    <tr>\n",
       "      <th>1972</th>\n",
       "      <td>7.305376e+06</td>\n",
       "      <td>21175368.40</td>\n",
       "      <td>6.518098e+07</td>\n",
       "      <td>1.668784e+07</td>\n",
       "      <td>8053050.0</td>\n",
       "    </tr>\n",
       "    <tr>\n",
       "      <th>1977</th>\n",
       "      <td>8.328097e+06</td>\n",
       "      <td>23122707.96</td>\n",
       "      <td>7.225799e+07</td>\n",
       "      <td>1.723882e+07</td>\n",
       "      <td>8619500.0</td>\n",
       "    </tr>\n",
       "    <tr>\n",
       "      <th>1982</th>\n",
       "      <td>9.602857e+06</td>\n",
       "      <td>25211636.80</td>\n",
       "      <td>7.909502e+07</td>\n",
       "      <td>1.770890e+07</td>\n",
       "      <td>9197425.0</td>\n",
       "    </tr>\n",
       "    <tr>\n",
       "      <th>1987</th>\n",
       "      <td>1.105450e+07</td>\n",
       "      <td>27310158.84</td>\n",
       "      <td>8.700669e+07</td>\n",
       "      <td>1.810314e+07</td>\n",
       "      <td>9787207.5</td>\n",
       "    </tr>\n",
       "    <tr>\n",
       "      <th>1992</th>\n",
       "      <td>1.267464e+07</td>\n",
       "      <td>29570964.16</td>\n",
       "      <td>9.494825e+07</td>\n",
       "      <td>1.860476e+07</td>\n",
       "      <td>10459825.5</td>\n",
       "    </tr>\n",
       "    <tr>\n",
       "      <th>1997</th>\n",
       "      <td>1.430448e+07</td>\n",
       "      <td>31876016.40</td>\n",
       "      <td>1.025238e+08</td>\n",
       "      <td>1.896480e+07</td>\n",
       "      <td>11120715.0</td>\n",
       "    </tr>\n",
       "    <tr>\n",
       "      <th>2002</th>\n",
       "      <td>1.603315e+07</td>\n",
       "      <td>33990910.48</td>\n",
       "      <td>1.091455e+08</td>\n",
       "      <td>1.927413e+07</td>\n",
       "      <td>11727414.5</td>\n",
       "    </tr>\n",
       "    <tr>\n",
       "      <th>2007</th>\n",
       "      <td>1.787576e+07</td>\n",
       "      <td>35954847.36</td>\n",
       "      <td>1.155138e+08</td>\n",
       "      <td>1.953662e+07</td>\n",
       "      <td>12274973.5</td>\n",
       "    </tr>\n",
       "  </tbody>\n",
       "</table>\n",
       "</div>"
      ],
      "text/plain": [
       "                    pop                                                     \n",
       "continent        Africa     Americas          Asia        Europe     Oceania\n",
       "year                                                                        \n",
       "1952       4.570010e+06  13806097.84  4.228356e+07  1.393736e+07   5343003.0\n",
       "1957       5.093033e+06  15478156.64  4.735699e+07  1.459635e+07   5970988.0\n",
       "1962       5.702247e+06  17330810.16  5.140476e+07  1.534517e+07   6641759.0\n",
       "1967       6.447875e+06  19229864.92  5.774736e+07  1.603930e+07   7300207.0\n",
       "1972       7.305376e+06  21175368.40  6.518098e+07  1.668784e+07   8053050.0\n",
       "1977       8.328097e+06  23122707.96  7.225799e+07  1.723882e+07   8619500.0\n",
       "1982       9.602857e+06  25211636.80  7.909502e+07  1.770890e+07   9197425.0\n",
       "1987       1.105450e+07  27310158.84  8.700669e+07  1.810314e+07   9787207.5\n",
       "1992       1.267464e+07  29570964.16  9.494825e+07  1.860476e+07  10459825.5\n",
       "1997       1.430448e+07  31876016.40  1.025238e+08  1.896480e+07  11120715.0\n",
       "2002       1.603315e+07  33990910.48  1.091455e+08  1.927413e+07  11727414.5\n",
       "2007       1.787576e+07  35954847.36  1.155138e+08  1.953662e+07  12274973.5"
      ]
     },
     "execution_count": 20,
     "metadata": {},
     "output_type": "execute_result"
    }
   ],
   "source": [
    "#SOLUTION\n",
    "\n",
    "(df\n",
    " .loc[:, ['year', 'continent', 'pop']]\n",
    " .groupby(['year', 'continent'])\n",
    " .mean('pop')\n",
    " .unstack('continent'))"
   ]
  },
  {
   "cell_type": "markdown",
   "id": "b1cfc3cf",
   "metadata": {},
   "source": [
    "<div class=\"alert alert-block alert-info\">\n",
    "<b>Corrections 4.4 - 4.6: </b> Points obtenus: /8\n",
    "</div>\n",
    "\n",
    "Remarques: "
   ]
  },
  {
   "cell_type": "markdown",
   "id": "923e024b",
   "metadata": {},
   "source": [
    "**4.7) Lisez attentivement le code du graphique suivant et ses commentaires. Ajoutez _une seule ligne_ pour définir comme taille de points du scatterplot, la population de chaque pays en million.**\n",
    "\n",
    "(2 points)\n",
    "\n",
    "Vous pouvez trouver le paramètre à ajouter dans [la doc](https://pandas.pydata.org/pandas-docs/version/0.25.0/reference/api/pandas.DataFrame.plot.scatter.html). "
   ]
  },
  {
   "cell_type": "code",
   "execution_count": 21,
   "id": "f8396840",
   "metadata": {},
   "outputs": [
    {
     "data": {
      "text/plain": [
       "Text(0.5, 0.98, 'Scatter plot with life expectancy by dgpPercap by country for 1951 and 2007')"
      ]
     },
     "execution_count": 21,
     "metadata": {},
     "output_type": "execute_result"
    },
    {
     "data": {
      "image/png": "[encoded data removed]",
      "text/plain": [
       "<Figure size 1440x576 with 2 Axes>"
      ]
     },
     "metadata": {
      "needs_background": "light"
     },
     "output_type": "display_data"
    }
   ],
   "source": [
    "import matplotlib.cm as cm\n",
    "\n",
    "NCOLORS = 5\n",
    "\n",
    "fig, axs = plt.subplots(1, 2, sharey=True, sharex=True, figsize=(20, 8))\n",
    "\n",
    "# Colormap for the continents.\n",
    "cmap = list(cm.get_cmap(\"rainbow\")(np.linspace(0, 1, NCOLORS)))\n",
    "\n",
    "# Vous pouvez aussi définir les couleurs manuellement\n",
    "# cmap = [\"black\",\"red\",\"yellow\",\"blue\",\"green\"]\n",
    "\n",
    "\n",
    "for i, year in enumerate((1952, 2007)):\n",
    "    data = df.query('year == @year')\n",
    "\n",
    "    # Plot each continent as a different color in order to have a legend. \n",
    "\n",
    "    # Observez bien: \n",
    "    # - la fonction ennumerate et ce qu'elle retourne\n",
    "    #     La fonction ennumerate() renvoie un index en plus des éléments d'une liste. \n",
    "    #     Ici elle retourne c, l'index, ainsi qu'un tuple avec le groupe et le dataframe correspondant.\n",
    "    #     Pour accéder à la population de chaque pays on peut par exemple utiliser df_continent['pop']\n",
    "\n",
    "    for c, (continent, df_continent) in enumerate(data.groupby('continent')):\n",
    "        # Scatterplot\n",
    "        df_continent.plot.scatter(ax=axs[i],\n",
    "                                  x='gdpPercap',\n",
    "                                  y='lifeExp',\n",
    "                                  s=df_continent['pop'] // 1e6,\n",
    "                                  color=[cmap[c]],\n",
    "                                  label=continent,\n",
    "                                  alpha=0.8)\n",
    "\n",
    "    # Plot style\n",
    "\n",
    "    axs[i].set_title(year, fontsize=14)\n",
    "    axs[i].set_xlabel('GDP per capita', fontsize=12)\n",
    "    axs[i].grid(axis='y', linestyle='--', alpha=0.4, lw=0.5)\n",
    "\n",
    "    # Remove border on the top and right.\n",
    "    axs[i].spines['top'].set_visible(False)\n",
    "    axs[i].spines['right'].set_visible(False)\n",
    "    # Set alpha on remaining borders.\n",
    "    axs[i].spines['left'].set_alpha(0.4)\n",
    "    axs[i].spines['bottom'].set_alpha(0.4)\n",
    "\n",
    "    # Only show ticks on the left and bottom spines.\n",
    "    axs[i].xaxis.set_ticks_position('bottom')\n",
    "    axs[i].yaxis.set_ticks_position('left')\n",
    "    # Style of ticks.\n",
    "    plt.xticks(fontsize=10, alpha=0.7)\n",
    "    plt.yticks(fontsize=10, alpha=0.7)\n",
    "\n",
    "axs[0].set_ylabel('Life Expectancy', fontsize=12)\n",
    "fig.suptitle('Scatter plot with life expectancy by dgpPercap by country for 1951 and 2007', fontsize=16)\n"
   ]
  },
  {
   "cell_type": "markdown",
   "id": "5d0d4cfc",
   "metadata": {},
   "source": [
    "**4.8) Analyse: Décrivez cette figure et répondez aux questions suivantes:**\n",
    "\n",
    "(5 points)\n",
    "\n",
    "- Quel est le principal message transmi ? \n",
    "- Quelles informations peut-on y trouver ? \n",
    "- Est-ce un bon graphique ? Que pourrait-on ajouter / supprimer pour le rendre plus riche en information ou plus pertinent ?\n"
   ]
  },
  {
   "cell_type": "markdown",
   "id": "77f87d59",
   "metadata": {},
   "source": [
    "*Réponses:*\n",
    "\n",
    "> 1) - Les pays avec le PIB par tête plus élevé ont une meilleure espérance de vie moyenne. (Correlation entre le PIB par tête et l'espérance de vie moyenne)\n",
    ">    - Les pays plus développés avec une population moins élevée ont aussi une meilleure espérance de vie.\n",
    ">    - La plupart des pays plus petits dans les continents mieux développés ont un meilleur PIB par tête\n",
    ">\n",
    "> 2) On y trouve les continents, chaque pays avec sa population représentée par la taille du point, l'espérance de vie du pays et son PIB par tête.\n",
    ">\n",
    "> 3) Il serait potentiellement plus informatif de représenter le PIB par tête (GDP per capita) sous forme d'une échelle logarithmique.\n"
   ]
  },
  {
   "cell_type": "markdown",
   "id": "806c5e5f",
   "metadata": {},
   "source": [
    "<div class=\"alert alert-block alert-info\">\n",
    "<b>Corrections 4.7 - 4.8: </b> Points obtenus: /7\n",
    "</div>\n",
    "\n",
    "Remarques: "
   ]
  }
 ],
 "metadata": {
  "kernelspec": {
   "display_name": "Python 3 (ipykernel)",
   "language": "python",
   "name": "python3"
  },
  "language_info": {
   "codemirror_mode": {
    "name": "ipython",
    "version": 3
   },
   "file_extension": ".py",
   "mimetype": "text/x-python",
   "name": "python",
   "nbconvert_exporter": "python",
   "pygments_lexer": "ipython3",
   "version": "3.10.6"
  }
 },
 "nbformat": 4,
 "nbformat_minor": 5
}
